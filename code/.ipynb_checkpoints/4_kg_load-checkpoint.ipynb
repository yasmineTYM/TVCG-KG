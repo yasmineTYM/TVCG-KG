{
 "cells": [
  {
   "cell_type": "code",
   "execution_count": 1,
   "id": "d4378ac7",
   "metadata": {},
   "outputs": [],
   "source": [
    "from py2neo import Graph"
   ]
  },
  {
   "cell_type": "markdown",
   "id": "93e4c06d",
   "metadata": {},
   "source": [
    "# 1. Delete Old Graph"
   ]
  },
  {
   "cell_type": "code",
   "execution_count": 54,
   "id": "0067c7e1",
   "metadata": {},
   "outputs": [],
   "source": [
    "def delete(graphname):\n",
    "    graph = Graph(\"bolt://localhost:7687\", auth=(\"neo4j\", \"123\"), name=graphname)\n",
    "    query = \"\"\"\n",
    "    match (a) -[r] -> () delete a, r\n",
    "    \"\"\"\n",
    "    graph.run(query)\n",
    "    query = \"\"\"\n",
    "    match (a) delete a\n",
    "    \"\"\"\n",
    "    graph.run(query)"
   ]
  },
  {
   "cell_type": "code",
   "execution_count": 55,
   "id": "2ea10de6",
   "metadata": {},
   "outputs": [],
   "source": [
    "# to_delete = ['version1','version2', 'version3', 'version4']\n",
    "to_delete=['version6']\n",
    "for ele in to_delete:\n",
    "    delete(ele)"
   ]
  },
  {
   "cell_type": "markdown",
   "id": "a0054619",
   "metadata": {},
   "source": [
    "# 2. Load data"
   ]
  },
  {
   "cell_type": "code",
   "execution_count": 57,
   "id": "5f7404f0",
   "metadata": {},
   "outputs": [
    {
     "data": {
      "text/html": [
       "<table><tr><th>terminationStatus</th><th>triplesLoaded</th><th>triplesParsed</th><th>namespaces</th><th>extraInfo</th><th>callParams</th></tr><tr><td style=\"text-align:left\">OK</td><td style=\"text-align:right\">316836</td><td style=\"text-align:right\">316836</td><td style=\"text-align:right\">null</td><td style=\"text-align:left\"></td><td style=\"text-align:left\">{}</td></tr></table>"
      ],
      "text/plain": [
       " terminationStatus | triplesLoaded | triplesParsed | namespaces | extraInfo | callParams \n",
       "-------------------|---------------|---------------|------------|-----------|------------\n",
       " OK                |        316836 |        316836 |       null |           | {}         "
      ]
     },
     "execution_count": 57,
     "metadata": {},
     "output_type": "execute_result"
    }
   ],
   "source": [
    "\n",
    "graph = Graph(\"bolt://localhost:7687\", auth=(\"neo4j\", \"123\"), name='version6')\n",
    "# graph.run(\"CREATE CONSTRAINT n10s_unique_uri ON (r:Resource) ASSERT r.uri IS UNIQUE\")\n",
    "graph.run(\"CALL n10s.graphconfig.init();\")\n",
    "graph.run('CALL n10s.graphconfig.init({ handleVocabUris: \"IGNORE\" })')\n",
    "graph.run(\"CALL n10s.rdf.import.fetch('file:///Users/yameitu/Documents/Yamei/Research/2024PVIS/kg_data/kg_v6.ttl', 'Turtle');\")\n"
   ]
  },
  {
   "cell_type": "markdown",
   "id": "3eea0b70",
   "metadata": {},
   "source": [
    "# 3. Statistics"
   ]
  },
  {
   "cell_type": "code",
   "execution_count": 58,
   "id": "7515825a",
   "metadata": {},
   "outputs": [
    {
     "name": "stdout",
     "output_type": "stream",
     "text": [
      "no existing\n",
      "      graph                                     nodeProjection  nodes    rels\n",
      "0  version6  {'input_data': {'label': 'input_data', 'proper...  81241  131223\n",
      "[2]\n"
     ]
    }
   ],
   "source": [
    "\n",
    "# for version in ['version1','version2','version3','version4']:\n",
    "version = \"version6\"\n",
    "graph = Graph(\"bolt://localhost:7687\", auth=(\"neo4j\", \"123\"), name=version)\n",
    "q = \"call db.labels();\"\n",
    "nodes = list(set(graph.run(q).to_data_frame()['label'].tolist()) - set(['_GraphConfig']))\n",
    "q = \"match (n)-[rel]-(m) return distinct type(rel)\"\n",
    "rel = graph.run(q).to_data_frame()['type(rel)'].tolist()\n",
    "nodes.remove('Resource')\n",
    "try:\n",
    "    graph.run(f\"\"\"call gds.graph.drop('{version}')\"\"\")\n",
    "except:\n",
    "    print('no existing')\n",
    "\n",
    "q = f\"\"\"\n",
    "CALL gds.graph.create(\n",
    "  '{version}',    \n",
    "  {nodes},   \n",
    "  {rel}    \n",
    ")\n",
    "YIELD\n",
    "  graphName AS graph, nodeProjection, nodeCount AS nodes, relationshipCount AS rels\n",
    "\"\"\"\n",
    "print(graph.run(q).to_data_frame())\n",
    "\n",
    "q = f\"\"\"\n",
    "    CALL gds.wcc.stats(\n",
    "      '{version}')\n",
    "    YIELD componentCount\n",
    "    \"\"\"\n",
    "print(graph.run(q).to_data_frame()['componentCount'].tolist())\n"
   ]
  },
  {
   "cell_type": "markdown",
   "id": "04a6bf5c",
   "metadata": {},
   "source": [
    "# Preparing training TransE"
   ]
  },
  {
   "cell_type": "code",
   "execution_count": 59,
   "id": "255002f9",
   "metadata": {},
   "outputs": [],
   "source": [
    "from neo4j import GraphDatabase\n",
    "import pandas as pd\n",
    "\n",
    "host = 'bolt://localhost:7687'\n",
    "user = 'neo4j'\n",
    "password = '123'\n",
    "def run_query(driver, query, params={}):\n",
    "    with driver.session() as session:\n",
    "        result = session.run(query, params)\n",
    "        return pd.DataFrame([r.values() for r in result], columns=result.keys())\n",
    "def getText(ele):\n",
    "    if 'name' in ele:\n",
    "        return ele['name']\n",
    "    elif 'title' in ele:\n",
    "        return ele['title']\n",
    "    elif 'label' in ele:\n",
    "        return ele['label']\n",
    "    else:\n",
    "        print(ele)\n",
    "        \n",
    "# names = ['version1','version2','version3','version4']\n",
    "version = 'version6'"
   ]
  },
  {
   "cell_type": "code",
   "execution_count": null,
   "id": "a18dd913",
   "metadata": {},
   "outputs": [],
   "source": [
    "\n",
    "# for version in names:\n",
    "driver = GraphDatabase.driver(host,auth=(user, password), database=version)\n",
    "\n",
    "data = run_query(driver, \"\"\"\n",
    "MATCH (n:Resource)\n",
    "REMOVE n:Resource\n",
    "\"\"\")\n",
    "# for version in names:\n",
    "driver = GraphDatabase.driver(host,auth=(user, password), database=version)\n",
    "\n",
    "data = run_query(driver, \"\"\"\n",
    "MATCH (s)-[r]->(t)\n",
    "RETURN properties(s) as source, properties(t) AS target, type(r) as type\n",
    "\"\"\")\n",
    "\n",
    "sources = []\n",
    "targets = []\n",
    "predicates = []\n",
    "for index, row in data.iterrows():\n",
    "    if index%10000==0:\n",
    "        print(index)\n",
    "\n",
    "    sources.append(getText(row['source']))\n",
    "    targets.append(getText(row['target']))\n",
    "    predicates.append(row['type'])\n",
    "training = pd.DataFrame({\n",
    "    'subject': sources,\n",
    "    'predicate': predicates,\n",
    "    'object': targets\n",
    "})\n",
    "training.to_csv('../kg_data/node_triplet_'+version+'.csv', index=False)"
   ]
  },
  {
   "cell_type": "code",
   "execution_count": 29,
   "id": "4dd8397a",
   "metadata": {},
   "outputs": [
    {
     "name": "stdout",
     "output_type": "stream",
     "text": [
      "0\n",
      "{'_classLabel': 'Class', '_handleRDFTypes': 0, '_subClassOfRel': 'SCO', '_handleMultival': 0, '_objectPropertyLabel': 'Relationship', '_rangeRel': 'RANGE', '_domainRel': 'DOMAIN', '_keepLangTag': False, '_keepCustomDataTypes': False, '_applyNeo4jNaming': False, '_handleVocabUris': 2, '_subPropertyOfRel': 'SPO', '_dataTypePropertyLabel': 'Property'}\n",
      "10000\n",
      "20000\n",
      "30000\n",
      "40000\n",
      "50000\n",
      "60000\n",
      "70000\n",
      "80000\n"
     ]
    }
   ],
   "source": [
    "\n",
    "# for version in names:\n",
    "version = 'version4'\n",
    "driver = GraphDatabase.driver(host,auth=(user, password), database=version)\n",
    "\n",
    "data = run_query(driver, \"\"\"\n",
    "MATCH (n)\n",
    "RETURN properties(n), id(n), labels(n)\n",
    "\"\"\")\n",
    "\n",
    "text = []\n",
    "ids = []\n",
    "entity_type = []\n",
    "entity_type_high = []\n",
    "for index, row in data.iterrows():\n",
    "    if index%10000==0:\n",
    "        print(index)\n",
    "    text.append(getText(row['properties(n)']))\n",
    "    ids.append(row['id(n)'])\n",
    "    entity_type.append(row['labels(n)'][0])\n",
    "    entity_type_high.append(row['labels(n)'][0].split('_')[0])\n",
    "training = pd.DataFrame({\n",
    "    'text': text,\n",
    "    'id': ids,\n",
    "    'entity_type': entity_type,\n",
    "    'entity_type_high': entity_type_high\n",
    "})\n",
    "training.to_csv('../kg_data/nodes_'+version+'.csv', index=False)         "
   ]
  },
  {
   "cell_type": "code",
   "execution_count": 50,
   "id": "46c28430",
   "metadata": {},
   "outputs": [],
   "source": [
    "# from pykeen.triples import TriplesFactory\n",
    "ae1 = [\n",
    "    'Xiaoru Yuan', 'Miriah Meyer', 'Jorn Kohlhammer','Jörn Kohlhammer',\n",
    "    'Ross Maciejewski','Remco Chang','R. Chang','Melanie Tory',\n",
    "    'Ronald Metoyer','Fabian Beck','Alex Endert',\n",
    "    'Jinwook Seo','Michael Sedlmair','David Gotz',\n",
    "    'Alexander Lex','Kristin Potter','Christoph Garth','Chaoli Wang',\n",
    "    'D. Archambault','Daniel Archambault','Stephen Kobourov','Ivan Viola','Vijay Natarajan',\n",
    "    'Kenneth Moreland','Shixia Liu','Bei Wang','Markus Hadwiger','Amela Sadagic',\n",
    "    'Wei Chen','Jing Yang',\n",
    "]\n",
    "\n",
    "ae2 = [\n",
    "    'Benjamin Lok','Christian Sandor','Jens Grubert',\n",
    "    'Stefanie Zollmann','Adam Jones','Anne-Hélène Olivier','Anne-Helene Olivier',\n",
    "    'Dalsuke Iwai','Wolfgang Stuerzlinger','Wolfgang Stürzlinger','Frank Steinicke','Daniel Keefe',\n",
    "    'Wolfgang Broll','Eric D. Ragan','E. D. Ragan','Lili Wang',\n",
    "    'Jeanine Stefanucci'\n",
    "]\n",
    "\n",
    "ae3 = [\n",
    "    'Ye Zhao','Tino Weinkauf',\n",
    "    'Peer-Timo Bremer','Kiyoshi Kiyokawa',\n",
    "    'Timo Ropinski','Hideo Saito','Han-Wei Shen',\n",
    "    'Tabitha Peck', 'Pedro V. Sander','Hui Huang',\n",
    "    'Ying He','Evangelos Kalogerakis','Paul Guerrero',\n",
    "    'Daniele Panozzo','Maks Ovsjanikov','Yang Liu',\n",
    "    'Wenping Wang', 'Amir Vaxman','Qixing Huang',\n",
    "    'Kai Hormann','Xin Tong','Daniel Aliaga',\n",
    "    'Theodore Kim','Min H. Kim','Tobias Ritschel',\n",
    "    'Voicu Popescu','Tamar Shinar','Tong-Yee Lee',\n",
    "    'Yebin Liu','Maud Marchal','Feng Xu',\n",
    "    'Li-Yi Wei','Zhigang Deng','Tien-Tsin Wong','Tim Weyrich',\n",
    "    'Taku Komura','Jan Bender','N. Thurey'\n",
    "]\n",
    "\n",
    "# for version in ['version3', 'version4', 'version5']:\n",
    "version = 'version3'\n",
    "driver = GraphDatabase.driver(host,auth=(user, password), database=version)\n",
    "data1 = run_query(driver, f\"\"\"\n",
    "MATCH (n:Author)\n",
    "WHERE n.name IN {ae1}\n",
    "RETURN ID(n)\n",
    "\"\"\")\n",
    "data2 = run_query(driver, f\"\"\"\n",
    "MATCH (n:Author)\n",
    "WHERE n.name IN {ae2}\n",
    "RETURN ID(n)\n",
    "\"\"\")\n",
    "data3 = run_query(driver, f\"\"\"\n",
    "MATCH (n:Author)\n",
    "WHERE n.name IN {ae3}\n",
    "RETURN ID(n)\n",
    "\"\"\")\n",
    "data1['area'] = ['VIS']* len(data1)\n",
    "data2['area'] = ['VR']*len(data2)\n",
    "data3['area'] = ['Graphics']*len(data3)\n",
    "output = pd.concat([data1, data2, data3])\n",
    "output.to_csv('../kg_data/ae_id'+version+'.csv', index=False)"
   ]
  },
  {
   "cell_type": "code",
   "execution_count": null,
   "id": "5c035252",
   "metadata": {},
   "outputs": [],
   "source": []
  }
 ],
 "metadata": {
  "kernelspec": {
   "display_name": "pvis2024",
   "language": "python",
   "name": "pvis2024"
  },
  "language_info": {
   "codemirror_mode": {
    "name": "ipython",
    "version": 3
   },
   "file_extension": ".py",
   "mimetype": "text/x-python",
   "name": "python",
   "nbconvert_exporter": "python",
   "pygments_lexer": "ipython3",
   "version": "3.8.17"
  }
 },
 "nbformat": 4,
 "nbformat_minor": 5
}
